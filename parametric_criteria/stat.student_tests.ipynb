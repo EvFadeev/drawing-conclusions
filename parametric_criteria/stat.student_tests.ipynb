{
 "cells": [
  {
   "cell_type": "markdown",
   "id": "prime-monroe",
   "metadata": {},
   "source": [
    "# Критерии Стьюдента"
   ]
  },
  {
   "cell_type": "code",
   "execution_count": 1,
   "id": "toxic-perfume",
   "metadata": {},
   "outputs": [
    {
     "name": "stderr",
     "output_type": "stream",
     "text": [
      "C:\\Users\\merce\\Anaconda3\\envs\\ML\\lib\\importlib\\_bootstrap.py:219: RuntimeWarning: numpy.ufunc size changed, may indicate binary incompatibility. Expected 192 from C header, got 216 from PyObject\n",
      "  return f(*args, **kwds)\n",
      "C:\\Users\\merce\\Anaconda3\\envs\\ML\\lib\\importlib\\_bootstrap.py:219: RuntimeWarning: numpy.ufunc size changed, may indicate binary incompatibility. Expected 192 from C header, got 216 from PyObject\n",
      "  return f(*args, **kwds)\n"
     ]
    }
   ],
   "source": [
    "import numpy as np\n",
    "import pandas as pd\n",
    "\n",
    "import scipy\n",
    "from statsmodels.stats.weightstats import *"
   ]
  },
  {
   "cell_type": "code",
   "execution_count": 2,
   "id": "sitting-bridge",
   "metadata": {},
   "outputs": [
    {
     "name": "stdout",
     "output_type": "stream",
     "text": [
      "Populating the interactive namespace from numpy and matplotlib\n"
     ]
    }
   ],
   "source": [
    "%pylab inline"
   ]
  },
  {
   "cell_type": "markdown",
   "id": "increased-calibration",
   "metadata": {},
   "source": [
    "## Treatment effects of methylphenidate"
   ]
  },
  {
   "cell_type": "markdown",
   "id": "killing-regard",
   "metadata": {},
   "source": [
    "В рамках исследования эффективности препарата метилфенидат 24 пациента с синдромом дефицита внимания и гиперактивности в течение недели принимали либо метилфенидат, либо плацебо. В конце недели каждый пациент проходили тест на способность к подавлению импульсивных поведенческих реакций. На втором этапе плацебо и препарат менялись, и после недельного курса каждый испытуемые проходили второй тест.\n",
    "\n",
    "Требуется оценить эффект применения препарата.\n",
    "\n",
    "Pearson D.A, Santos C.W., Casat C.D., et al. (2004). Treatment effects of methylphenidate on cognitive functioning in children with mental retardation and ADHD. Journal of the American Academy of Child and Adolescent Psychiatry, 43(6), 677–685."
   ]
  },
  {
   "cell_type": "code",
   "execution_count": 5,
   "id": "sharing-pocket",
   "metadata": {},
   "outputs": [
    {
     "data": {
      "text/html": [
       "<div>\n",
       "<style scoped>\n",
       "    .dataframe tbody tr th:only-of-type {\n",
       "        vertical-align: middle;\n",
       "    }\n",
       "\n",
       "    .dataframe tbody tr th {\n",
       "        vertical-align: top;\n",
       "    }\n",
       "\n",
       "    .dataframe thead th {\n",
       "        text-align: right;\n",
       "    }\n",
       "</style>\n",
       "<table border=\"1\" class=\"dataframe\">\n",
       "  <thead>\n",
       "    <tr style=\"text-align: right;\">\n",
       "      <th></th>\n",
       "      <th>Placebo</th>\n",
       "      <th>Methylphenidate</th>\n",
       "    </tr>\n",
       "  </thead>\n",
       "  <tbody>\n",
       "    <tr>\n",
       "      <th>0</th>\n",
       "      <td>57</td>\n",
       "      <td>62</td>\n",
       "    </tr>\n",
       "    <tr>\n",
       "      <th>1</th>\n",
       "      <td>27</td>\n",
       "      <td>49</td>\n",
       "    </tr>\n",
       "    <tr>\n",
       "      <th>2</th>\n",
       "      <td>32</td>\n",
       "      <td>30</td>\n",
       "    </tr>\n",
       "    <tr>\n",
       "      <th>3</th>\n",
       "      <td>31</td>\n",
       "      <td>34</td>\n",
       "    </tr>\n",
       "    <tr>\n",
       "      <th>4</th>\n",
       "      <td>34</td>\n",
       "      <td>38</td>\n",
       "    </tr>\n",
       "  </tbody>\n",
       "</table>\n",
       "</div>"
      ],
      "text/plain": [
       "   Placebo  Methylphenidate\n",
       "0       57               62\n",
       "1       27               49\n",
       "2       32               30\n",
       "3       31               34\n",
       "4       34               38"
      ]
     },
     "execution_count": 5,
     "metadata": {},
     "output_type": "execute_result"
    }
   ],
   "source": [
    "data = pd.read_csv(\"ADHD.txt\", sep=' ', header=0)\n",
    "data.columns = ['Placebo', 'Methylphenidate']\n",
    "data.head()"
   ]
  },
  {
   "cell_type": "code",
   "execution_count": 6,
   "id": "fatal-wells",
   "metadata": {},
   "outputs": [
    {
     "data": {
      "image/png": "[encoded data removed]",
      "text/plain": [
       "<Figure size 432x288 with 1 Axes>"
      ]
     },
     "metadata": {
      "needs_background": "light"
     },
     "output_type": "display_data"
    }
   ],
   "source": [
    "data.plot.scatter('Placebo', 'Methylphenidate', c='r', s=30)\n",
    "pylab.grid()\n",
    "pylab.plot(range(100), c='black')\n",
    "pylab.xlim((20, 80))\n",
    "pylab.ylim((20, 80))\n",
    "pylab.show()"
   ]
  },
  {
   "cell_type": "code",
   "execution_count": 7,
   "id": "numerous-arcade",
   "metadata": {},
   "outputs": [
    {
     "data": {
      "image/png": "[encoded data removed]",
      "text/plain": [
       "<Figure size 864x288 with 2 Axes>"
      ]
     },
     "metadata": {
      "needs_background": "light"
     },
     "output_type": "display_data"
    }
   ],
   "source": [
    "pylab.figure(figsize=(12,4))\n",
    "\n",
    "pylab.subplot(1,2,1)\n",
    "pylab.grid()\n",
    "pylab.hist(data.Placebo, color='r')\n",
    "pylab.xlabel('Placebo')\n",
    "\n",
    "pylab.subplot(1,2,2)\n",
    "pylab.grid()\n",
    "pylab.hist(data.Methylphenidate, color='b')\n",
    "pylab.xlabel('Methylphenidate')\n",
    "\n",
    "pylab.show()"
   ]
  },
  {
   "cell_type": "markdown",
   "id": "presidential-warrant",
   "metadata": {},
   "source": [
    "## Одновыборочный критерий Стьюдента"
   ]
  },
  {
   "cell_type": "markdown",
   "id": "chief-support",
   "metadata": {
    "collapsed": true
   },
   "source": [
    "Исходя из того, что способность к подавлению испульсивных поведенческих реакций измеряется по шкале [0, 100], можно предположить, что при хорошей калибровке теста средняя способоность к подавлению реакций в популяции составляет 50. Тогда для того, чтобы проверить гипотезу о том, что пациенты в выборке действительно в среднем хуже справляются с подавлением импульсивных реакций (нуждаются в лечении), давайте проверим, что их способность к подавлению реакций отличается от средней (не равна 50). "
   ]
  },
  {
   "cell_type": "markdown",
   "id": "intimate-thong",
   "metadata": {},
   "source": [
    "$H_0\\colon$ среднее значение способности к подавлению испульсивных поведенческих реакций равно 50.\n",
    "\n",
    "$H_1\\colon$ не равно."
   ]
  },
  {
   "cell_type": "code",
   "execution_count": 8,
   "id": "architectural-puppy",
   "metadata": {},
   "outputs": [
    {
     "data": {
      "text/plain": [
       "Ttest_1sampResult(statistic=-4.438003341905128, pvalue=0.00018894293251080175)"
      ]
     },
     "execution_count": 8,
     "metadata": {},
     "output_type": "execute_result"
    }
   ],
   "source": [
    "scipy.stats.ttest_1samp(data.Placebo, 50.0)"
   ]
  },
  {
   "cell_type": "code",
   "execution_count": 11,
   "id": "governing-configuration",
   "metadata": {},
   "outputs": [
    {
     "name": "stdout",
     "output_type": "stream",
     "text": [
      "conf interval: [35.223273, 44.276727]\n"
     ]
    }
   ],
   "source": [
    "print(\"conf interval: [%f, %f]\" % zconfint(data.Placebo))"
   ]
  },
  {
   "cell_type": "markdown",
   "id": "consecutive-morning",
   "metadata": {},
   "source": [
    "## Двухвыборочный критерий Стьюдента (независимые выборки)"
   ]
  },
  {
   "cell_type": "markdown",
   "id": "extra-thread",
   "metadata": {},
   "source": [
    "Для того, чтобы использовать двухвыборочный критерий Стьюдента, убедимся, что распределения в выборках существенно не отличаются от нормальных."
   ]
  },
  {
   "cell_type": "code",
   "execution_count": 12,
   "id": "private-honey",
   "metadata": {},
   "outputs": [
    {
     "data": {
      "image/png": "[encoded data removed]",
      "text/plain": [
       "<Figure size 864x288 with 2 Axes>"
      ]
     },
     "metadata": {
      "needs_background": "light"
     },
     "output_type": "display_data"
    }
   ],
   "source": [
    "pylab.figure(figsize=(12,4))\n",
    "pylab.subplot(1,2,1)\n",
    "stats.probplot(data.Placebo, dist='norm', plot=pylab) ## Q-Q plot\n",
    "pylab.subplot(1,2,2)\n",
    "stats.probplot(data.Methylphenidate, dist='norm', plot=pylab)\n",
    "pylab.show()"
   ]
  },
  {
   "cell_type": "markdown",
   "id": "governing-screw",
   "metadata": {},
   "source": [
    "Критерий Шапиро-Уилка:\n",
    "\n",
    " $H_0\\colon$ способности к подавлению импульсивных реакций распредлены нормально\n",
    " \n",
    " $H_1\\colon$ не нормально."
   ]
  },
  {
   "cell_type": "code",
   "execution_count": 13,
   "id": "convertible-layer",
   "metadata": {},
   "outputs": [
    {
     "name": "stdout",
     "output_type": "stream",
     "text": [
      "shapiro normality test, W-statistic: 0.857487, p-value: 0.003020\n"
     ]
    }
   ],
   "source": [
    "print(\"shapiro normality test, W-statistic: %f, p-value: %f\" % stats.shapiro(data.Placebo))"
   ]
  },
  {
   "cell_type": "code",
   "execution_count": 14,
   "id": "theoretical-hammer",
   "metadata": {},
   "outputs": [
    {
     "name": "stdout",
     "output_type": "stream",
     "text": [
      "shapiro normality test, W-statistic: 0.916445, p-value: 0.048768\n"
     ]
    }
   ],
   "source": [
    "print(\"shapiro normality test, W-statistic: %f, p-value: %f\" % stats.shapiro(data.Methylphenidate))"
   ]
  },
  {
   "cell_type": "markdown",
   "id": "proper-turkish",
   "metadata": {},
   "source": [
    "нулевая гипотеза отвергается, однако по рисунку распределение отличается от нормального, но не сильно, \n",
    "и критерий стьюдента работает в улсовиях когда распределение не является нормальным, но существенно от него не отличается"
   ]
  },
  {
   "cell_type": "markdown",
   "id": "earlier-static",
   "metadata": {},
   "source": [
    "С помощью критерия Стьюдента проверим гипотезу о развенстве средних двух выборок."
   ]
  },
  {
   "cell_type": "markdown",
   "id": "heated-dietary",
   "metadata": {},
   "source": [
    "Критерий Стьюдента:\n",
    "\n",
    "$H_0\\colon$ средние значения способности к подавлению испульсивных поведенческих реакций одинаковы для пациентов, принимавших препарат, и для пациентов, принимавших плацебо.\n",
    "\n",
    "$H_0\\colon$ не одинаковы."
   ]
  },
  {
   "cell_type": "code",
   "execution_count": 15,
   "id": "christian-burden",
   "metadata": {},
   "outputs": [
    {
     "data": {
      "text/plain": [
       "Ttest_indResult(statistic=-1.4521635018159091, pvalue=0.1532919977404709)"
      ]
     },
     "execution_count": 15,
     "metadata": {},
     "output_type": "execute_result"
    }
   ],
   "source": [
    "scipy.stats.ttest_ind(data.Placebo, data.Methylphenidate, equal_var=False)"
   ]
  },
  {
   "cell_type": "code",
   "execution_count": 16,
   "id": "minus-vision",
   "metadata": {},
   "outputs": [
    {
     "name": "stdout",
     "output_type": "stream",
     "text": [
      "conf interval: [-1.914589, 11.831256]\n"
     ]
    }
   ],
   "source": [
    "# интервально оценим разности средних этих выборок\n",
    "cm = CompareMeans(DescrStatsW(data.Methylphenidate), DescrStatsW(data.Placebo))\n",
    "print(\"conf interval: [%f, %f]\" % cm.tconfint_diff(alpha=0.05))"
   ]
  },
  {
   "cell_type": "markdown",
   "id": "major-runner",
   "metadata": {},
   "source": [
    "## Двухвыборочный критерий Стьюдента (зависмые выборки)"
   ]
  },
  {
   "cell_type": "markdown",
   "id": "incorporate-hawaiian",
   "metadata": {},
   "source": [
    "Для того, чтобы использовать критерй Стьюдента для связанных выборок, давайте проверим, что распределение попарных разностей существенно не отличается от нормального."
   ]
  },
  {
   "cell_type": "code",
   "execution_count": 17,
   "id": "preliminary-falls",
   "metadata": {},
   "outputs": [
    {
     "data": {
      "image/png": "[encoded data removed]",
      "text/plain": [
       "<Figure size 432x288 with 1 Axes>"
      ]
     },
     "metadata": {
      "needs_background": "light"
     },
     "output_type": "display_data"
    }
   ],
   "source": [
    "stats.probplot(data.Placebo - data.Methylphenidate, dist='norm', plot=pylab)\n",
    "pylab.show()"
   ]
  },
  {
   "cell_type": "markdown",
   "id": "applied-importance",
   "metadata": {},
   "source": [
    "Критерий Шапиро-Уилка:\n",
    "\n",
    "$H_0\\colon$ попарные разности распределены нормально.\n",
    "\n",
    "$H_1\\colon$ не нормально."
   ]
  },
  {
   "cell_type": "code",
   "execution_count": 18,
   "id": "objective-accused",
   "metadata": {},
   "outputs": [
    {
     "name": "stdout",
     "output_type": "stream",
     "text": [
      "Shapiro-Wilk normality test, W-statistic: 0.979806, p-value: 0.892254\n"
     ]
    }
   ],
   "source": [
    "print(\"Shapiro-Wilk normality test, W-statistic: %f, p-value: %f\" % stats.shapiro(data.Methylphenidate - data.Placebo))"
   ]
  },
  {
   "cell_type": "markdown",
   "id": "studied-canvas",
   "metadata": {},
   "source": [
    "Критерий Стьюдента:\n",
    "\n",
    "$H_0\\colon$ средние значения способности к подавлению испульсивных поведенческих реакций одинаковы для пациентов, принимавших препарат, и для пациентов, принимавших плацебо.\n",
    "\n",
    "$H_1\\colon$ не одинаковы."
   ]
  },
  {
   "cell_type": "code",
   "execution_count": 19,
   "id": "endangered-sympathy",
   "metadata": {},
   "outputs": [
    {
     "data": {
      "text/plain": [
       "Ttest_relResult(statistic=3.2223624451230406, pvalue=0.003771488176381471)"
      ]
     },
     "execution_count": 19,
     "metadata": {},
     "output_type": "execute_result"
    }
   ],
   "source": [
    "stats.ttest_rel(data.Methylphenidate, data.Placebo)"
   ]
  },
  {
   "cell_type": "code",
   "execution_count": null,
   "id": "incredible-release",
   "metadata": {},
   "outputs": [],
   "source": [
    "print(\" 95%% conf interval\")"
   ]
  }
 ],
 "metadata": {
  "kernelspec": {
   "display_name": "Python 3",
   "language": "python",
   "name": "python3"
  },
  "language_info": {
   "codemirror_mode": {
    "name": "ipython",
    "version": 3
   },
   "file_extension": ".py",
   "mimetype": "text/x-python",
   "name": "python",
   "nbconvert_exporter": "python",
   "pygments_lexer": "ipython3",
   "version": "3.7.9"
  }
 },
 "nbformat": 4,
 "nbformat_minor": 5
}
