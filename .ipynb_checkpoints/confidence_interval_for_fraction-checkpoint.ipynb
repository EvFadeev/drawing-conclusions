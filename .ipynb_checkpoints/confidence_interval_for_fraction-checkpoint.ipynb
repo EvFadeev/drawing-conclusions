{
 "cells": [
  {
   "cell_type": "markdown",
   "id": "deadly-borough",
   "metadata": {},
   "source": [
    "# Доверительные интервалы для доли"
   ]
  },
  {
   "cell_type": "markdown",
   "id": "linear-discount",
   "metadata": {},
   "source": [
    "## Генерация данных"
   ]
  },
  {
   "cell_type": "code",
   "execution_count": 1,
   "id": "touched-battle",
   "metadata": {},
   "outputs": [],
   "source": [
    "import numpy as np\n",
    "from functools import partial"
   ]
  },
  {
   "cell_type": "code",
   "execution_count": 2,
   "id": "romance-minister",
   "metadata": {},
   "outputs": [],
   "source": [
    "np.random.seed(1)\n",
    "\n",
    "statistical_population = np.random.randint(2, size=100_000)\n",
    "\n",
    "# выборка\n",
    "random_sample = np.random.choice(statistical_population, size=1000)"
   ]
  },
  {
   "cell_type": "code",
   "execution_count": 3,
   "id": "worst-ivory",
   "metadata": {},
   "outputs": [
    {
     "data": {
      "text/plain": [
       "0.49771"
      ]
     },
     "execution_count": 3,
     "metadata": {},
     "output_type": "execute_result"
    }
   ],
   "source": [
    "# истинное значение доли\n",
    "statistical_population.mean()"
   ]
  },
  {
   "cell_type": "markdown",
   "id": "cellular-equality",
   "metadata": {},
   "source": [
    "## точечная оценка"
   ]
  },
  {
   "cell_type": "code",
   "execution_count": 4,
   "id": "creative-creation",
   "metadata": {},
   "outputs": [
    {
     "data": {
      "text/plain": [
       "0.502"
      ]
     },
     "execution_count": 4,
     "metadata": {},
     "output_type": "execute_result"
    }
   ],
   "source": [
    "random_sample.mean()"
   ]
  },
  {
   "cell_type": "markdown",
   "id": "competent-syracuse",
   "metadata": {},
   "source": [
    "## доверительный интервал для доли"
   ]
  },
  {
   "cell_type": "code",
   "execution_count": 6,
   "id": "smart-terminal",
   "metadata": {},
   "outputs": [],
   "source": [
    "from statsmodels.stats.proportion import proportion_confint"
   ]
  },
  {
   "cell_type": "markdown",
   "id": "stretch-framework",
   "metadata": {},
   "source": [
    "### Доверительный интервал на основе нормального распределения"
   ]
  },
  {
   "cell_type": "markdown",
   "id": "israeli-acrobat",
   "metadata": {},
   "source": [
    "$$\\hat{p}\\pm z_{1-\\frac{\\alpha}{2}} \\sqrt{\\frac{\\hat{p}\\left(1-\\hat{p}\\right)}{n}}$$"
   ]
  },
  {
   "cell_type": "code",
   "execution_count": 9,
   "id": "general-emergency",
   "metadata": {},
   "outputs": [],
   "source": [
    "normal_interval = proportion_confint(sum(random_sample), len(random_sample), method='normal')"
   ]
  },
  {
   "cell_type": "code",
   "execution_count": 11,
   "id": "modified-vermont",
   "metadata": {},
   "outputs": [
    {
     "name": "stdout",
     "output_type": "stream",
     "text": [
      "normal interval [0.47101, 0.53299]\n"
     ]
    }
   ],
   "source": [
    "print('normal interval {}'.format(list(map(partial(round, ndigits=5), normal_interval))))"
   ]
  },
  {
   "cell_type": "markdown",
   "id": "collectible-moldova",
   "metadata": {},
   "source": [
    "### Доверительный интервал Уилсона"
   ]
  },
  {
   "cell_type": "markdown",
   "id": "compound-relevance",
   "metadata": {},
   "source": [
    "$$\\frac1{ 1 + \\frac{z^2}{n} } \\left( \\hat{p} + \\frac{z^2}{2n} \\pm z \\sqrt{ \\frac{ \\hat{p}\\left(1-\\hat{p}\\right)}{n} + \\frac{\n",
    "z^2}{4n^2} } \\right), \\;\\; z \\equiv z_{1-\\frac{\\alpha}{2}}$$ "
   ]
  },
  {
   "cell_type": "code",
   "execution_count": 12,
   "id": "vanilla-attachment",
   "metadata": {},
   "outputs": [],
   "source": [
    "wilson_interval = proportion_confint(sum(random_sample), len(random_sample), method='wilson')"
   ]
  },
  {
   "cell_type": "code",
   "execution_count": 13,
   "id": "supreme-mirror",
   "metadata": {},
   "outputs": [
    {
     "name": "stdout",
     "output_type": "stream",
     "text": [
      "wilson interval [0.47106, 0.53292]\n"
     ]
    }
   ],
   "source": [
    "print('wilson interval {}'.format(list(map(partial(round, ndigits=5), wilson_interval))))"
   ]
  },
  {
   "cell_type": "markdown",
   "id": "mental-helmet",
   "metadata": {},
   "source": [
    "## Размер выборки для интервала заданной ширины"
   ]
  },
  {
   "cell_type": "code",
   "execution_count": 14,
   "id": "toxic-baghdad",
   "metadata": {},
   "outputs": [],
   "source": [
    "from statsmodels.stats.proportion import samplesize_confint_proportion"
   ]
  },
  {
   "cell_type": "code",
   "execution_count": 15,
   "id": "roman-provision",
   "metadata": {},
   "outputs": [
    {
     "data": {
      "text/plain": [
       "9603"
      ]
     },
     "execution_count": 15,
     "metadata": {},
     "output_type": "execute_result"
    }
   ],
   "source": [
    "n_samples = int(samplesize_confint_proportion(random_sample.mean(), 0.01))\n",
    "n_samples"
   ]
  },
  {
   "cell_type": "code",
   "execution_count": 16,
   "id": "concrete-press",
   "metadata": {},
   "outputs": [],
   "source": [
    "np.random.seed(1)\n",
    "random_sample = np.random.choice(statistical_population, size = n_samples)"
   ]
  },
  {
   "cell_type": "code",
   "execution_count": 18,
   "id": "joint-wrong",
   "metadata": {},
   "outputs": [],
   "source": [
    "normal_interval = proportion_confint(sum(random_sample), len(random_sample), method='normal')"
   ]
  },
  {
   "cell_type": "code",
   "execution_count": 19,
   "id": "cosmetic-milton",
   "metadata": {},
   "outputs": [
    {
     "name": "stdout",
     "output_type": "stream",
     "text": [
      "normal interval [0.48183, 0.50182] with width 0.02\n"
     ]
    }
   ],
   "source": [
    "print('normal interval {} with width {}'.format(list(map(partial(round, ndigits=5), normal_interval)), \n",
    "                                                round(normal_interval[1] - normal_interval[0],3)))"
   ]
  },
  {
   "cell_type": "code",
   "execution_count": null,
   "id": "hawaiian-necessity",
   "metadata": {},
   "outputs": [],
   "source": []
  }
 ],
 "metadata": {
  "kernelspec": {
   "display_name": "Python 3",
   "language": "python",
   "name": "python3"
  },
  "language_info": {
   "codemirror_mode": {
    "name": "ipython",
    "version": 3
   },
   "file_extension": ".py",
   "mimetype": "text/x-python",
   "name": "python",
   "nbconvert_exporter": "python",
   "pygments_lexer": "ipython3",
   "version": "3.7.9"
  }
 },
 "nbformat": 4,
 "nbformat_minor": 5
}
