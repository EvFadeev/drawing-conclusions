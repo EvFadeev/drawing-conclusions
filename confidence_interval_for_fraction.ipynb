{
 "cells": [
  {
   "cell_type": "markdown",
   "id": "equal-elevation",
   "metadata": {},
   "source": [
    "# Доверительные интервалы для доли"
   ]
  },
  {
   "cell_type": "markdown",
   "id": "dated-andrews",
   "metadata": {},
   "source": [
    "## Генерация данных"
   ]
  },
  {
   "cell_type": "code",
   "execution_count": 1,
   "id": "attached-mortality",
   "metadata": {},
   "outputs": [],
   "source": [
    "import numpy as np\n",
    "from functools import partial"
   ]
  },
  {
   "cell_type": "code",
   "execution_count": 2,
   "id": "proof-worry",
   "metadata": {},
   "outputs": [],
   "source": [
    "np.random.seed(1)\n",
    "\n",
    "statistical_population = np.random.randint(2, size=100_000)\n",
    "\n",
    "# выборка\n",
    "random_sample = np.random.choice(statistical_population, size=1000)"
   ]
  },
  {
   "cell_type": "code",
   "execution_count": 3,
   "id": "ruled-leisure",
   "metadata": {},
   "outputs": [
    {
     "data": {
      "text/plain": [
       "0.49771"
      ]
     },
     "execution_count": 3,
     "metadata": {},
     "output_type": "execute_result"
    }
   ],
   "source": [
    "# истинное значение доли\n",
    "statistical_population.mean()"
   ]
  },
  {
   "cell_type": "markdown",
   "id": "hindu-depression",
   "metadata": {},
   "source": [
    "## точечная оценка"
   ]
  },
  {
   "cell_type": "code",
   "execution_count": 4,
   "id": "julian-wisdom",
   "metadata": {},
   "outputs": [
    {
     "data": {
      "text/plain": [
       "0.502"
      ]
     },
     "execution_count": 4,
     "metadata": {},
     "output_type": "execute_result"
    }
   ],
   "source": [
    "random_sample.mean()"
   ]
  },
  {
   "cell_type": "markdown",
   "id": "aware-three",
   "metadata": {},
   "source": [
    "## доверительный интервал для доли"
   ]
  },
  {
   "cell_type": "code",
   "execution_count": 6,
   "id": "chemical-rating",
   "metadata": {},
   "outputs": [],
   "source": [
    "from statsmodels.stats.proportion import proportion_confint"
   ]
  },
  {
   "cell_type": "markdown",
   "id": "million-fields",
   "metadata": {},
   "source": [
    "### Доверительный интервал на основе нормального распределения"
   ]
  },
  {
   "cell_type": "markdown",
   "id": "threatened-hurricane",
   "metadata": {},
   "source": [
    "$$\\hat{p}\\pm z_{1-\\frac{\\alpha}{2}} \\sqrt{\\frac{\\hat{p}\\left(1-\\hat{p}\\right)}{n}}$$"
   ]
  },
  {
   "cell_type": "code",
   "execution_count": 9,
   "id": "equipped-trance",
   "metadata": {},
   "outputs": [],
   "source": [
    "normal_interval = proportion_confint(sum(random_sample), len(random_sample), method='normal')"
   ]
  },
  {
   "cell_type": "code",
   "execution_count": 11,
   "id": "atmospheric-psychiatry",
   "metadata": {},
   "outputs": [
    {
     "name": "stdout",
     "output_type": "stream",
     "text": [
      "normal interval [0.47101, 0.53299]\n"
     ]
    }
   ],
   "source": [
    "print('normal interval {}'.format(list(map(partial(round, ndigits=5), normal_interval))))"
   ]
  },
  {
   "cell_type": "markdown",
   "id": "occupied-correction",
   "metadata": {},
   "source": [
    "### Доверительный интервал Уилсона"
   ]
  },
  {
   "cell_type": "markdown",
   "id": "respected-aaron",
   "metadata": {},
   "source": [
    "$$\\frac1{ 1 + \\frac{z^2}{n} } \\left( \\hat{p} + \\frac{z^2}{2n} \\pm z \\sqrt{ \\frac{ \\hat{p}\\left(1-\\hat{p}\\right)}{n} + \\frac{\n",
    "z^2}{4n^2} } \\right), \\;\\; z \\equiv z_{1-\\frac{\\alpha}{2}}$$ "
   ]
  },
  {
   "cell_type": "code",
   "execution_count": 12,
   "id": "other-composer",
   "metadata": {},
   "outputs": [],
   "source": [
    "wilson_interval = proportion_confint(sum(random_sample), len(random_sample), method='wilson')"
   ]
  },
  {
   "cell_type": "code",
   "execution_count": 13,
   "id": "polished-seafood",
   "metadata": {},
   "outputs": [
    {
     "name": "stdout",
     "output_type": "stream",
     "text": [
      "wilson interval [0.47106, 0.53292]\n"
     ]
    }
   ],
   "source": [
    "print('wilson interval {}'.format(list(map(partial(round, ndigits=5), wilson_interval))))"
   ]
  },
  {
   "cell_type": "markdown",
   "id": "mineral-automation",
   "metadata": {},
   "source": [
    "## Размер выборки для интервала заданной ширины"
   ]
  },
  {
   "cell_type": "code",
   "execution_count": 14,
   "id": "nominated-choice",
   "metadata": {},
   "outputs": [],
   "source": [
    "from statsmodels.stats.proportion import samplesize_confint_proportion"
   ]
  },
  {
   "cell_type": "code",
   "execution_count": 15,
   "id": "retired-scotland",
   "metadata": {},
   "outputs": [
    {
     "data": {
      "text/plain": [
       "9603"
      ]
     },
     "execution_count": 15,
     "metadata": {},
     "output_type": "execute_result"
    }
   ],
   "source": [
    "n_samples = int(samplesize_confint_proportion(random_sample.mean(), 0.01))\n",
    "n_samples"
   ]
  },
  {
   "cell_type": "code",
   "execution_count": 16,
   "id": "active-measure",
   "metadata": {},
   "outputs": [],
   "source": [
    "np.random.seed(1)\n",
    "random_sample = np.random.choice(statistical_population, size = n_samples)"
   ]
  },
  {
   "cell_type": "code",
   "execution_count": 18,
   "id": "focal-public",
   "metadata": {},
   "outputs": [],
   "source": [
    "normal_interval = proportion_confint(sum(random_sample), len(random_sample), method='normal')"
   ]
  },
  {
   "cell_type": "code",
   "execution_count": 19,
   "id": "placed-trash",
   "metadata": {},
   "outputs": [
    {
     "name": "stdout",
     "output_type": "stream",
     "text": [
      "normal interval [0.48183, 0.50182] with width 0.02\n"
     ]
    }
   ],
   "source": [
    "print('normal interval {} with width {}'.format(list(map(partial(round, ndigits=5), normal_interval)), \n",
    "                                                round(normal_interval[1] - normal_interval[0],3)))"
   ]
  },
  {
   "cell_type": "code",
   "execution_count": null,
   "id": "ethical-little",
   "metadata": {},
   "outputs": [],
   "source": []
  }
 ],
 "metadata": {
  "kernelspec": {
   "display_name": "Python 3",
   "language": "python",
   "name": "python3"
  },
  "language_info": {
   "codemirror_mode": {
    "name": "ipython",
    "version": 3
   },
   "file_extension": ".py",
   "mimetype": "text/x-python",
   "name": "python",
   "nbconvert_exporter": "python",
   "pygments_lexer": "ipython3",
   "version": "3.7.9"
  }
 },
 "nbformat": 4,
 "nbformat_minor": 5
}
