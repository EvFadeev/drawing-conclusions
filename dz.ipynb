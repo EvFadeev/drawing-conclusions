{
 "cells": [
  {
   "cell_type": "code",
   "execution_count": 2,
   "id": "suspended-external",
   "metadata": {},
   "outputs": [],
   "source": [
    "import numpy as np\n",
    "from scipy import stats"
   ]
  },
  {
   "cell_type": "markdown",
   "id": "wicked-python",
   "metadata": {},
   "source": [
    "\n",
    "Давайте уточним правило трёх сигм. Утверждение: 99.7% вероятностной массы случайной величины X∼N(μ,σ2) лежит в интервале μ±c⋅σ. Чему равно точное значение константы c? Округлите ответ до четырёх знаков после десятичной точки."
   ]
  },
  {
   "cell_type": "code",
   "execution_count": 5,
   "id": "innocent-shelf",
   "metadata": {},
   "outputs": [
    {
     "name": "stdout",
     "output_type": "stream",
     "text": [
      "Ans:  2.9677\n"
     ]
    }
   ],
   "source": [
    "print('Ans: ', round(stats.norm.ppf(1-0.003/2),4))"
   ]
  },
  {
   "cell_type": "code",
   "execution_count": 16,
   "id": "mounted-religion",
   "metadata": {},
   "outputs": [],
   "source": [
    "aspirin = np.array([1 if i < 104 else 0 for i in range(11037)])\n",
    "placebo = np.array([1 if i < 189 else 0 for i in range(11034)])"
   ]
  },
  {
   "cell_type": "markdown",
   "id": "running-security",
   "metadata": {},
   "source": [
    "\n",
    "В пятилетнем рандомизированном исследовании Гарвардской медицинской школы 11037 испытуемых через день принимали аспирин, а ещё 11034 — плацебо. Исследование было слепым, то есть, испытуемые не знали, что именно они принимают.\n",
    "\n",
    "За 5 лет инфаркт случился у 104 испытуемых, принимавших аспирин, и у 189 принимавших плацебо.\n",
    "\n",
    "Оцените, насколько вероятность инфаркта снижается при приёме аспирина. Округлите ответ до четырёх знаков после десятичной точки."
   ]
  },
  {
   "cell_type": "code",
   "execution_count": 10,
   "id": "prime-utility",
   "metadata": {},
   "outputs": [
    {
     "name": "stdout",
     "output_type": "stream",
     "text": [
      "Ans: 0.0077\n"
     ]
    }
   ],
   "source": [
    "prob_aspirin = sum(aspirin)/len(aspirin)\n",
    "prob_placebo = sum(placebo)/len(placebo)\n",
    "\n",
    "print('Ans:', round(prob_placebo - prob_aspirin, 4))"
   ]
  },
  {
   "cell_type": "markdown",
   "id": "accessible-parallel",
   "metadata": {},
   "source": [
    "Постройте теперь 95% доверительный интервал для снижения вероятности инфаркта при приёме аспирина. Чему равна его верхняя граница? Округлите ответ до четырёх знаков после десятичной точки.  "
   ]
  },
  {
   "cell_type": "code",
   "execution_count": 11,
   "id": "referenced-cameroon",
   "metadata": {},
   "outputs": [],
   "source": [
    "def proportions_confint_diff_ind(sample1, sample2, alpha=0.05):\n",
    "    z = scipy.stats.norm.ppf(1-alpha/2.)\n",
    "    p1 = float(sum(sample1))/len(sample1)\n",
    "    p2 = float(sum(sample2))/len(sample2)\n",
    "    \n",
    "    left_boundary = (p1 - p2) - z * np.sqrt(p1 * (1 - p1)/ len(sample1) + p2 * (1 - p2)/ len(sample2))\n",
    "    right_boundary = (p1 - p2) + z * np.sqrt(p1 * (1 - p1)/ len(sample1) + p2 * (1 - p2)/ len(sample2))\n",
    "    \n",
    "    return (left_boundary, right_boundary)"
   ]
  },
  {
   "cell_type": "code",
   "execution_count": 12,
   "id": "charged-electric",
   "metadata": {},
   "outputs": [
    {
     "name": "stdout",
     "output_type": "stream",
     "text": [
      "Conf interval: (0.004687750675049439, 0.010724297276960124)\n"
     ]
    }
   ],
   "source": [
    "print('Conf interval: {}'.format(proportions_confint_diff_ind(placebo, aspirin)))"
   ]
  },
  {
   "cell_type": "markdown",
   "id": "strong-church",
   "metadata": {},
   "source": [
    "\n",
    "Продолжим анализировать данные эксперимента Гарвардской медицинской школы.\n",
    "\n",
    "Для бернуллиевских случайных величин X∼Ber(p) часто вычисляют величину p1−p, которая называется шансами (odds). Чтобы оценить шансы по выборке, вместо p нужно подставить p^. Например, шансы инфаркта в контрольной группе, принимавшей плацебо, можно оценить как\n",
    "\n",
    "Оцените, во сколько раз понижаются шансы инфаркта при регулярном приёме аспирина. Округлите ответ до четырёх знаков после десятичной точки."
   ]
  },
  {
   "cell_type": "code",
   "execution_count": 13,
   "id": "biblical-zealand",
   "metadata": {},
   "outputs": [
    {
     "name": "stdout",
     "output_type": "stream",
     "text": [
      "Ans:  1.8321\n"
     ]
    }
   ],
   "source": [
    "def odds(p):\n",
    "    return p/(1-p)\n",
    "\n",
    "odds_asp = odds(prob_aspirin)\n",
    "odds_plac = odds(prob_placebo)\n",
    "print('Ans: ', round(odds_plac/odds_asp, 4))"
   ]
  },
  {
   "cell_type": "markdown",
   "id": "logical-effects",
   "metadata": {},
   "source": [
    "\n",
    "Величина, которую вы оценили в предыдущем вопросе, называется отношением шансов. Постройте для отношения шансов 95% доверительный интервал с помощью бутстрепа. Чему равна его нижняя граница? Округлите ответ до 4 знаков после десятичной точки.\n",
    "\n",
    "Чтобы получить в точности такой же доверительный интервал, как у нас:\n",
    "\n",
    "составьте векторы исходов в контрольной и тестовой выборках так, чтобы в начале шли все единицы, а потом все нули;\n",
    "\n",
    "установите random seed=0;\n",
    "\n",
    "сделайте по 1000 псевдовыборок из каждой группы пациентов с помощью функции get_bootstrap_samples."
   ]
  },
  {
   "cell_type": "code",
   "execution_count": 14,
   "id": "handy-assault",
   "metadata": {},
   "outputs": [],
   "source": [
    "def odds_data(data):\n",
    "    p = sum(data)/len(data)\n",
    "    return p/(1-p)\n",
    "\n",
    "def get_bootstrap_samples(data, n_samples):\n",
    "    indices = np.random.randint(0, len(data), size=(n_samples, len(data)))\n",
    "    samples = data[indices]\n",
    "    return samples\n",
    "\n",
    "def stat_interval(stat, alpha):\n",
    "    bounds = np.percentile(stat, [100 * alpha/2., 100*(1 - alpha/2.)])\n",
    "    return bounds"
   ]
  },
  {
   "cell_type": "code",
   "execution_count": 38,
   "id": "crude-vietnam",
   "metadata": {},
   "outputs": [],
   "source": [
    "np.random.seed(0)\n",
    "\n",
    "odds_aspirin_data = np.array(list(map(odds_data, get_bootstrap_samples(aspirin, 1000))))\n",
    "odds_placebo_data = np.array(list(map(odds_data, get_bootstrap_samples(placebo, 1000))))\n"
   ]
  },
  {
   "cell_type": "code",
   "execution_count": 39,
   "id": "substantial-competition",
   "metadata": {},
   "outputs": [
    {
     "name": "stdout",
     "output_type": "stream",
     "text": [
      "Ans:  [1.44419465 2.34321168]\n"
     ]
    }
   ],
   "source": [
    "print('Ans: ', stat_interval(odds_placebo_data/odds_aspirin_data, 0.05))"
   ]
  },
  {
   "cell_type": "code",
   "execution_count": null,
   "id": "successful-maximum",
   "metadata": {},
   "outputs": [],
   "source": []
  }
 ],
 "metadata": {
  "kernelspec": {
   "display_name": "Python 3",
   "language": "python",
   "name": "python3"
  },
  "language_info": {
   "codemirror_mode": {
    "name": "ipython",
    "version": 3
   },
   "file_extension": ".py",
   "mimetype": "text/x-python",
   "name": "python",
   "nbconvert_exporter": "python",
   "pygments_lexer": "ipython3",
   "version": "3.7.9"
  }
 },
 "nbformat": 4,
 "nbformat_minor": 5
}
